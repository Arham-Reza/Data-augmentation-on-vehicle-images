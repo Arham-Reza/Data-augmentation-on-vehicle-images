{
 "cells": [
  {
   "cell_type": "code",
   "execution_count": 2,
   "id": "7624ac35",
   "metadata": {},
   "outputs": [],
   "source": [
    "import cv2\n",
    "import os"
   ]
  },
  {
   "cell_type": "markdown",
   "id": "35fe6c43",
   "metadata": {},
   "source": [
    "# Gray_scale"
   ]
  },
  {
   "cell_type": "code",
   "execution_count": 2,
   "id": "2662be78",
   "metadata": {},
   "outputs": [
    {
     "name": "stdout",
     "output_type": "stream",
     "text": [
      "Directory already exist, images will be written in same folder\n"
     ]
    }
   ],
   "source": [
    "path = r'C:\\Users\\acer\\Downloads\\Bengali_License_Plate\\Image' # Source Folder\n",
    "dstpath = r'C:\\Users\\acer\\Downloads\\Bengali_License_Plate\\Gray_scale' # Destination Folder\n",
    "\n",
    "\n",
    "\n",
    "try:\n",
    "    makedirs(dstpath)\n",
    "except:\n",
    "    print (\"Directory already exist, images will be written in same folder\")\n",
    "\n",
    "# Folder won't used\n",
    "files = os.listdir(path)\n",
    "\n",
    "for image in files:\n",
    "    img = cv2.imread(os.path.join(path,image))\n",
    "    gray = cv2.cvtColor(img,cv2.COLOR_BGR2GRAY)\n",
    "    cv2.imwrite(os.path.join(dstpath,image),gray)"
   ]
  },
  {
   "cell_type": "markdown",
   "id": "d64a6b49",
   "metadata": {},
   "source": [
    "# Gaussian_Blurr"
   ]
  },
  {
   "cell_type": "code",
   "execution_count": 4,
   "id": "bf0b7801",
   "metadata": {},
   "outputs": [
    {
     "name": "stdout",
     "output_type": "stream",
     "text": [
      "Directory already exist, images will be written in same folder\n"
     ]
    }
   ],
   "source": [
    "path = r'C:\\Users\\acer\\Downloads\\Bengali_License_Plate\\Image' # Source Folder\n",
    "dstpath = r'C:\\Users\\acer\\Downloads\\Bengali_License_Plate\\Gaussian_Blurr' # Destination Folder\n",
    "\n",
    "\n",
    "\n",
    "try:\n",
    "    makedirs(dstpath)\n",
    "except:\n",
    "    print (\"Directory already exist, images will be written in same folder\")\n",
    "\n",
    "# Folder won't used\n",
    "files = os.listdir(path)\n",
    "\n",
    "for image in files:\n",
    "    img = cv2.imread(os.path.join(path,image))\n",
    "    Gaussian = cv2.GaussianBlur(img, (7, 7), 0)\n",
    "    cv2.imwrite(os.path.join(dstpath,image),Gaussian)"
   ]
  },
  {
   "cell_type": "markdown",
   "id": "6bb897f6",
   "metadata": {},
   "source": [
    "# Rainy_effect"
   ]
  },
  {
   "cell_type": "code",
   "execution_count": 3,
   "id": "f3f89fbb",
   "metadata": {},
   "outputs": [],
   "source": [
    "import albumentations as A\n",
    "import random\n",
    "import glob"
   ]
  },
  {
   "cell_type": "code",
   "execution_count": 7,
   "id": "2d70bf17",
   "metadata": {},
   "outputs": [
    {
     "name": "stdout",
     "output_type": "stream",
     "text": [
      "Directory already exist, images will be written in same folder\n"
     ]
    }
   ],
   "source": [
    "path_read=r'C:\\Users\\acer\\Downloads\\Bengali_License_Plate\\Image'\n",
    "path_write=r'C:\\Users\\acer\\Downloads\\Bengali_License_Plate\\Rainy_effect'\n",
    "\n",
    "try:\n",
    "    makedirs(path_write)\n",
    "except:\n",
    "    print (\"Directory already exist, images will be written in same folder\")\n",
    "\n",
    "#transform object of albumentaion for rainy effect\n",
    "transform = A.Compose(\n",
    "    [A.RandomRain(brightness_coefficient=0.9, drop_width=1, blur_value=5, p=1)],\n",
    ")\n",
    "random.seed(7)\n",
    "images=glob.glob(path_read+'/*jpg*')\n",
    "n=0\n",
    "for image in images:\n",
    "    img=cv2.imread(os.path.join(path_read,image))\n",
    "    rainy=transform(image=img)\n",
    "    rainy_image=rainy['image']\n",
    "    cv2.imwrite(os.path.join(path_write,image),rainy_image)"
   ]
  },
  {
   "cell_type": "markdown",
   "id": "2e3bf46b",
   "metadata": {},
   "source": [
    "# Foggy_effect"
   ]
  },
  {
   "cell_type": "code",
   "execution_count": null,
   "id": "4d53843a",
   "metadata": {},
   "outputs": [],
   "source": [
    "path_read=r'C:\\Users\\acer\\Downloads\\Bengali_License_Plate\\Image'\n",
    "path_write=r'C:\\Users\\acer\\Downloads\\Bengali_License_Plate\\Foggy_effect'\n",
    "\n",
    "#transform object of albumentaion for foggy effect\n",
    "transform = A.Compose([A.RandomFog(fog_coef_lower=0.1, fog_coef_upper=0.5, alpha_coef=0.1, p=1)],)\n",
    "random.seed(7)\n",
    "images=glob.glob(path_read+'/*jpg*')\n",
    "n=0\n",
    "for image in images:\n",
    "    img=cv2.imread(os.path.join(path_read,image))\n",
    "    foggy=transform(image=img)\n",
    "    foggy_image=foggy['image']\n",
    "    cv2.imwrite(os.path.join(path_write,image),foggy_image)"
   ]
  },
  {
   "cell_type": "code",
   "execution_count": null,
   "id": "7a8fca3b",
   "metadata": {},
   "outputs": [],
   "source": []
  }
 ],
 "metadata": {
  "kernelspec": {
   "display_name": "Python 3 (ipykernel)",
   "language": "python",
   "name": "python3"
  },
  "language_info": {
   "codemirror_mode": {
    "name": "ipython",
    "version": 3
   },
   "file_extension": ".py",
   "mimetype": "text/x-python",
   "name": "python",
   "nbconvert_exporter": "python",
   "pygments_lexer": "ipython3",
   "version": "3.10.6"
  }
 },
 "nbformat": 4,
 "nbformat_minor": 5
}
